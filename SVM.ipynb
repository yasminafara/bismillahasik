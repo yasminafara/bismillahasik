{
  "nbformat": 4,
  "nbformat_minor": 0,
  "metadata": {
    "colab": {
      "provenance": []
    },
    "kernelspec": {
      "name": "python3",
      "display_name": "Python 3"
    },
    "language_info": {
      "name": "python"
    }
  },
  "cells": [
    {
      "cell_type": "code",
      "execution_count": null,
      "metadata": {
        "id": "rHzsk6bHiRkL",
        "colab": {
          "base_uri": "https://localhost:8080/"
        },
        "outputId": "3ee2e196-488d-4359-a680-cfdb1d3431e3"
      },
      "outputs": [
        {
          "output_type": "stream",
          "name": "stdout",
          "text": [
            "Mounted at /content/drive/\n"
          ]
        }
      ],
      "source": [
        "from google.colab import drive\n",
        "import os\n",
        "\n",
        "drive.mount('/content/drive/')"
      ]
    },
    {
      "cell_type": "code",
      "source": [
        "import numpy as np\n",
        "import pandas as pd\n",
        "import seaborn as sns\n",
        "from sklearn.preprocessing import StandardScaler\n",
        "from sklearn.model_selection import train_test_split\n",
        "from sklearn import svm\n",
        "from sklearn.metrics import accuracy_score\n",
        "from matplotlib import pyplot as plt"
      ],
      "metadata": {
        "id": "X25rMFjkxoiv"
      },
      "execution_count": null,
      "outputs": []
    },
    {
      "cell_type": "code",
      "source": [
        "from google.colab import drive\n",
        "import pandas as pd\n",
        "\n",
        "# Mount Google Drive\n",
        "drive.mount('/content/drive')\n",
        "\n",
        "# Path to the CSV file on your Google Drive\n",
        "file_path = '/content/drive/MyDrive/Colab Notebooks/hasilsmote.csv'\n",
        "\n",
        "# Read the CSV file, skipping lines causing errors\n",
        "databanjir = pd.read_csv(file_path, error_bad_lines=False)\n",
        "\n",
        "# Display the data\n",
        "print(databanjir)\n"
      ],
      "metadata": {
        "colab": {
          "base_uri": "https://localhost:8080/"
        },
        "id": "CEpduoLjxG9Y",
        "outputId": "0884dcaa-c10b-4209-cf9f-ad92ec75c0d7"
      },
      "execution_count": null,
      "outputs": [
        {
          "output_type": "stream",
          "name": "stdout",
          "text": [
            "Drive already mounted at /content/drive; to attempt to forcibly remount, call drive.mount(\"/content/drive\", force_remount=True).\n",
            "    TinggiLaut  KecepatanAngin  GangguanCuaca  Gelombang  Astronomi  rob\n",
            "0     1.000000               0              1   1.250000          0    0\n",
            "1     1.100000               0              1   1.250000          0    0\n",
            "2     1.200000               0              1   1.000000          1    0\n",
            "3     1.300000              15              1   1.000000          1    0\n",
            "4     1.400000              10              1   0.750000          1    0\n",
            "5     1.400000              15              1   0.750000          1    0\n",
            "6     1.500000              15              1   0.750000          1    1\n",
            "7     1.500000              25              1   1.500000          1    1\n",
            "8     1.500000              15              1   2.000000          1    1\n",
            "9     1.500000              15              1   2.000000          1    1\n",
            "10    1.400000               8              1   2.000000          1    0\n",
            "11    1.400000               8              0   1.500000          0    0\n",
            "12    1.200000              10              0   1.500000          0    0\n",
            "13    1.200000              15              0   0.750000          0    0\n",
            "14    1.300000              25              0   1.250000          0    0\n",
            "15    1.400000              25              0   1.250000          1    0\n",
            "16    1.500000              15              0   1.000000          1    0\n",
            "17    1.500000              20              1   1.250000          1    0\n",
            "18    1.600000              15              1   1.250000          1    1\n",
            "19    1.600000              20              1   1.250000          1    1\n",
            "20    1.600000              25              1   1.500000          1    1\n",
            "21    1.500000              20              0   1.500000          0    0\n",
            "22    1.400000              20              0   1.500000          0    0\n",
            "23    1.300000              20              0   0.500000          0    0\n",
            "24    1.200000              15              0   0.500000          0    0\n",
            "25    1.200000               0              1   1.000000          1    0\n",
            "26    1.300000              10              1   1.000000          1    0\n",
            "27    1.400000              10              1   1.000000          1    0\n",
            "28    1.500000              15              1   1.500000          1    1\n",
            "29    1.600000              20              1   1.500000          1    1\n",
            "30    1.600000              25              1   1.500000          1    1\n",
            "31    1.600000              20              1   1.500000          0    1\n",
            "32    1.600000              15              1   1.500000          0    1\n",
            "33    1.500000              15              1   1.853207          1    1\n",
            "34    1.500000              15              1   1.800035          1    1\n",
            "35    1.600000              25              1   1.500000          1    1\n",
            "36    1.600000              25              1   1.500000          1    1\n",
            "37    1.600000              19              1   1.500000          0    1\n",
            "38    1.544022              15              1   1.669832          1    1\n",
            "39    1.582298              15              1   1.382763          1    1\n",
            "40    1.500000              15              1   1.061439          1    1\n",
            "41    1.600000              24              1   1.500000          0    1\n"
          ]
        },
        {
          "output_type": "stream",
          "name": "stderr",
          "text": [
            "<ipython-input-7-8113fd8145aa>:11: FutureWarning: The error_bad_lines argument has been deprecated and will be removed in a future version. Use on_bad_lines in the future.\n",
            "\n",
            "\n",
            "  databanjir = pd.read_csv(file_path, error_bad_lines=False)\n"
          ]
        }
      ]
    },
    {
      "cell_type": "code",
      "source": [
        "databanjir.head()"
      ],
      "metadata": {
        "colab": {
          "base_uri": "https://localhost:8080/",
          "height": 206
        },
        "id": "c9KPIRbkzXL8",
        "outputId": "6044c9b5-ad4f-4e64-a1b8-491e19040ad7"
      },
      "execution_count": null,
      "outputs": [
        {
          "output_type": "execute_result",
          "data": {
            "text/plain": [
              "   TinggiLaut  KecepatanAngin  GangguanCuaca  Gelombang  Astronomi  rob\n",
              "0         1.0               0              1       1.25          0    0\n",
              "1         1.1               0              1       1.25          0    0\n",
              "2         1.2               0              1       1.00          1    0\n",
              "3         1.3              15              1       1.00          1    0\n",
              "4         1.4              10              1       0.75          1    0"
            ],
            "text/html": [
              "\n",
              "  <div id=\"df-bc820d16-70a5-4083-8987-1c118397bd84\" class=\"colab-df-container\">\n",
              "    <div>\n",
              "<style scoped>\n",
              "    .dataframe tbody tr th:only-of-type {\n",
              "        vertical-align: middle;\n",
              "    }\n",
              "\n",
              "    .dataframe tbody tr th {\n",
              "        vertical-align: top;\n",
              "    }\n",
              "\n",
              "    .dataframe thead th {\n",
              "        text-align: right;\n",
              "    }\n",
              "</style>\n",
              "<table border=\"1\" class=\"dataframe\">\n",
              "  <thead>\n",
              "    <tr style=\"text-align: right;\">\n",
              "      <th></th>\n",
              "      <th>TinggiLaut</th>\n",
              "      <th>KecepatanAngin</th>\n",
              "      <th>GangguanCuaca</th>\n",
              "      <th>Gelombang</th>\n",
              "      <th>Astronomi</th>\n",
              "      <th>rob</th>\n",
              "    </tr>\n",
              "  </thead>\n",
              "  <tbody>\n",
              "    <tr>\n",
              "      <th>0</th>\n",
              "      <td>1.0</td>\n",
              "      <td>0</td>\n",
              "      <td>1</td>\n",
              "      <td>1.25</td>\n",
              "      <td>0</td>\n",
              "      <td>0</td>\n",
              "    </tr>\n",
              "    <tr>\n",
              "      <th>1</th>\n",
              "      <td>1.1</td>\n",
              "      <td>0</td>\n",
              "      <td>1</td>\n",
              "      <td>1.25</td>\n",
              "      <td>0</td>\n",
              "      <td>0</td>\n",
              "    </tr>\n",
              "    <tr>\n",
              "      <th>2</th>\n",
              "      <td>1.2</td>\n",
              "      <td>0</td>\n",
              "      <td>1</td>\n",
              "      <td>1.00</td>\n",
              "      <td>1</td>\n",
              "      <td>0</td>\n",
              "    </tr>\n",
              "    <tr>\n",
              "      <th>3</th>\n",
              "      <td>1.3</td>\n",
              "      <td>15</td>\n",
              "      <td>1</td>\n",
              "      <td>1.00</td>\n",
              "      <td>1</td>\n",
              "      <td>0</td>\n",
              "    </tr>\n",
              "    <tr>\n",
              "      <th>4</th>\n",
              "      <td>1.4</td>\n",
              "      <td>10</td>\n",
              "      <td>1</td>\n",
              "      <td>0.75</td>\n",
              "      <td>1</td>\n",
              "      <td>0</td>\n",
              "    </tr>\n",
              "  </tbody>\n",
              "</table>\n",
              "</div>\n",
              "    <div class=\"colab-df-buttons\">\n",
              "\n",
              "  <div class=\"colab-df-container\">\n",
              "    <button class=\"colab-df-convert\" onclick=\"convertToInteractive('df-bc820d16-70a5-4083-8987-1c118397bd84')\"\n",
              "            title=\"Convert this dataframe to an interactive table.\"\n",
              "            style=\"display:none;\">\n",
              "\n",
              "  <svg xmlns=\"http://www.w3.org/2000/svg\" height=\"24px\" viewBox=\"0 -960 960 960\">\n",
              "    <path d=\"M120-120v-720h720v720H120Zm60-500h600v-160H180v160Zm220 220h160v-160H400v160Zm0 220h160v-160H400v160ZM180-400h160v-160H180v160Zm440 0h160v-160H620v160ZM180-180h160v-160H180v160Zm440 0h160v-160H620v160Z\"/>\n",
              "  </svg>\n",
              "    </button>\n",
              "\n",
              "  <style>\n",
              "    .colab-df-container {\n",
              "      display:flex;\n",
              "      gap: 12px;\n",
              "    }\n",
              "\n",
              "    .colab-df-convert {\n",
              "      background-color: #E8F0FE;\n",
              "      border: none;\n",
              "      border-radius: 50%;\n",
              "      cursor: pointer;\n",
              "      display: none;\n",
              "      fill: #1967D2;\n",
              "      height: 32px;\n",
              "      padding: 0 0 0 0;\n",
              "      width: 32px;\n",
              "    }\n",
              "\n",
              "    .colab-df-convert:hover {\n",
              "      background-color: #E2EBFA;\n",
              "      box-shadow: 0px 1px 2px rgba(60, 64, 67, 0.3), 0px 1px 3px 1px rgba(60, 64, 67, 0.15);\n",
              "      fill: #174EA6;\n",
              "    }\n",
              "\n",
              "    .colab-df-buttons div {\n",
              "      margin-bottom: 4px;\n",
              "    }\n",
              "\n",
              "    [theme=dark] .colab-df-convert {\n",
              "      background-color: #3B4455;\n",
              "      fill: #D2E3FC;\n",
              "    }\n",
              "\n",
              "    [theme=dark] .colab-df-convert:hover {\n",
              "      background-color: #434B5C;\n",
              "      box-shadow: 0px 1px 3px 1px rgba(0, 0, 0, 0.15);\n",
              "      filter: drop-shadow(0px 1px 2px rgba(0, 0, 0, 0.3));\n",
              "      fill: #FFFFFF;\n",
              "    }\n",
              "  </style>\n",
              "\n",
              "    <script>\n",
              "      const buttonEl =\n",
              "        document.querySelector('#df-bc820d16-70a5-4083-8987-1c118397bd84 button.colab-df-convert');\n",
              "      buttonEl.style.display =\n",
              "        google.colab.kernel.accessAllowed ? 'block' : 'none';\n",
              "\n",
              "      async function convertToInteractive(key) {\n",
              "        const element = document.querySelector('#df-bc820d16-70a5-4083-8987-1c118397bd84');\n",
              "        const dataTable =\n",
              "          await google.colab.kernel.invokeFunction('convertToInteractive',\n",
              "                                                    [key], {});\n",
              "        if (!dataTable) return;\n",
              "\n",
              "        const docLinkHtml = 'Like what you see? Visit the ' +\n",
              "          '<a target=\"_blank\" href=https://colab.research.google.com/notebooks/data_table.ipynb>data table notebook</a>'\n",
              "          + ' to learn more about interactive tables.';\n",
              "        element.innerHTML = '';\n",
              "        dataTable['output_type'] = 'display_data';\n",
              "        await google.colab.output.renderOutput(dataTable, element);\n",
              "        const docLink = document.createElement('div');\n",
              "        docLink.innerHTML = docLinkHtml;\n",
              "        element.appendChild(docLink);\n",
              "      }\n",
              "    </script>\n",
              "  </div>\n",
              "\n",
              "\n",
              "<div id=\"df-c7297773-3d0d-4b24-8289-9797c8c57623\">\n",
              "  <button class=\"colab-df-quickchart\" onclick=\"quickchart('df-c7297773-3d0d-4b24-8289-9797c8c57623')\"\n",
              "            title=\"Suggest charts\"\n",
              "            style=\"display:none;\">\n",
              "\n",
              "<svg xmlns=\"http://www.w3.org/2000/svg\" height=\"24px\"viewBox=\"0 0 24 24\"\n",
              "     width=\"24px\">\n",
              "    <g>\n",
              "        <path d=\"M19 3H5c-1.1 0-2 .9-2 2v14c0 1.1.9 2 2 2h14c1.1 0 2-.9 2-2V5c0-1.1-.9-2-2-2zM9 17H7v-7h2v7zm4 0h-2V7h2v10zm4 0h-2v-4h2v4z\"/>\n",
              "    </g>\n",
              "</svg>\n",
              "  </button>\n",
              "\n",
              "<style>\n",
              "  .colab-df-quickchart {\n",
              "      --bg-color: #E8F0FE;\n",
              "      --fill-color: #1967D2;\n",
              "      --hover-bg-color: #E2EBFA;\n",
              "      --hover-fill-color: #174EA6;\n",
              "      --disabled-fill-color: #AAA;\n",
              "      --disabled-bg-color: #DDD;\n",
              "  }\n",
              "\n",
              "  [theme=dark] .colab-df-quickchart {\n",
              "      --bg-color: #3B4455;\n",
              "      --fill-color: #D2E3FC;\n",
              "      --hover-bg-color: #434B5C;\n",
              "      --hover-fill-color: #FFFFFF;\n",
              "      --disabled-bg-color: #3B4455;\n",
              "      --disabled-fill-color: #666;\n",
              "  }\n",
              "\n",
              "  .colab-df-quickchart {\n",
              "    background-color: var(--bg-color);\n",
              "    border: none;\n",
              "    border-radius: 50%;\n",
              "    cursor: pointer;\n",
              "    display: none;\n",
              "    fill: var(--fill-color);\n",
              "    height: 32px;\n",
              "    padding: 0;\n",
              "    width: 32px;\n",
              "  }\n",
              "\n",
              "  .colab-df-quickchart:hover {\n",
              "    background-color: var(--hover-bg-color);\n",
              "    box-shadow: 0 1px 2px rgba(60, 64, 67, 0.3), 0 1px 3px 1px rgba(60, 64, 67, 0.15);\n",
              "    fill: var(--button-hover-fill-color);\n",
              "  }\n",
              "\n",
              "  .colab-df-quickchart-complete:disabled,\n",
              "  .colab-df-quickchart-complete:disabled:hover {\n",
              "    background-color: var(--disabled-bg-color);\n",
              "    fill: var(--disabled-fill-color);\n",
              "    box-shadow: none;\n",
              "  }\n",
              "\n",
              "  .colab-df-spinner {\n",
              "    border: 2px solid var(--fill-color);\n",
              "    border-color: transparent;\n",
              "    border-bottom-color: var(--fill-color);\n",
              "    animation:\n",
              "      spin 1s steps(1) infinite;\n",
              "  }\n",
              "\n",
              "  @keyframes spin {\n",
              "    0% {\n",
              "      border-color: transparent;\n",
              "      border-bottom-color: var(--fill-color);\n",
              "      border-left-color: var(--fill-color);\n",
              "    }\n",
              "    20% {\n",
              "      border-color: transparent;\n",
              "      border-left-color: var(--fill-color);\n",
              "      border-top-color: var(--fill-color);\n",
              "    }\n",
              "    30% {\n",
              "      border-color: transparent;\n",
              "      border-left-color: var(--fill-color);\n",
              "      border-top-color: var(--fill-color);\n",
              "      border-right-color: var(--fill-color);\n",
              "    }\n",
              "    40% {\n",
              "      border-color: transparent;\n",
              "      border-right-color: var(--fill-color);\n",
              "      border-top-color: var(--fill-color);\n",
              "    }\n",
              "    60% {\n",
              "      border-color: transparent;\n",
              "      border-right-color: var(--fill-color);\n",
              "    }\n",
              "    80% {\n",
              "      border-color: transparent;\n",
              "      border-right-color: var(--fill-color);\n",
              "      border-bottom-color: var(--fill-color);\n",
              "    }\n",
              "    90% {\n",
              "      border-color: transparent;\n",
              "      border-bottom-color: var(--fill-color);\n",
              "    }\n",
              "  }\n",
              "</style>\n",
              "\n",
              "  <script>\n",
              "    async function quickchart(key) {\n",
              "      const quickchartButtonEl =\n",
              "        document.querySelector('#' + key + ' button');\n",
              "      quickchartButtonEl.disabled = true;  // To prevent multiple clicks.\n",
              "      quickchartButtonEl.classList.add('colab-df-spinner');\n",
              "      try {\n",
              "        const charts = await google.colab.kernel.invokeFunction(\n",
              "            'suggestCharts', [key], {});\n",
              "      } catch (error) {\n",
              "        console.error('Error during call to suggestCharts:', error);\n",
              "      }\n",
              "      quickchartButtonEl.classList.remove('colab-df-spinner');\n",
              "      quickchartButtonEl.classList.add('colab-df-quickchart-complete');\n",
              "    }\n",
              "    (() => {\n",
              "      let quickchartButtonEl =\n",
              "        document.querySelector('#df-c7297773-3d0d-4b24-8289-9797c8c57623 button');\n",
              "      quickchartButtonEl.style.display =\n",
              "        google.colab.kernel.accessAllowed ? 'block' : 'none';\n",
              "    })();\n",
              "  </script>\n",
              "</div>\n",
              "    </div>\n",
              "  </div>\n"
            ]
          },
          "metadata": {},
          "execution_count": 8
        }
      ]
    },
    {
      "cell_type": "code",
      "source": [
        "databanjir.shape"
      ],
      "metadata": {
        "colab": {
          "base_uri": "https://localhost:8080/"
        },
        "id": "RXOgh2rLzoT0",
        "outputId": "d875adca-9dcf-48cf-a3bf-a61f1af0e4d6"
      },
      "execution_count": null,
      "outputs": [
        {
          "output_type": "execute_result",
          "data": {
            "text/plain": [
              "(42, 6)"
            ]
          },
          "metadata": {},
          "execution_count": 9
        }
      ]
    },
    {
      "cell_type": "code",
      "source": [
        "databanjir.columns"
      ],
      "metadata": {
        "colab": {
          "base_uri": "https://localhost:8080/"
        },
        "id": "-DMVd4eUzr2O",
        "outputId": "9c163d32-e513-4baf-cc1e-273d3c5a0a74"
      },
      "execution_count": null,
      "outputs": [
        {
          "output_type": "execute_result",
          "data": {
            "text/plain": [
              "Index(['TinggiLaut', 'KecepatanAngin', 'GangguanCuaca', 'Gelombang',\n",
              "       'Astronomi', 'rob'],\n",
              "      dtype='object')"
            ]
          },
          "metadata": {},
          "execution_count": 10
        }
      ]
    },
    {
      "cell_type": "code",
      "source": [
        "import seaborn as sns\n",
        "import matplotlib.pyplot as plt\n",
        "\n",
        "# Create a count plot\n",
        "sns.countplot(data=databanjir, x='rob')\n",
        "\n",
        "# Set the y-axis label\n",
        "plt.ylabel('Count')\n",
        "\n",
        "# Display the plot\n",
        "plt.show()\n",
        "\n",
        "# Display the value counts\n",
        "print(databanjir['rob'].value_counts())\n"
      ],
      "metadata": {
        "colab": {
          "base_uri": "https://localhost:8080/",
          "height": 501
        },
        "id": "-POdtmqszyzl",
        "outputId": "1ffd5063-5c0f-48cd-9359-9044b7d9296d"
      },
      "execution_count": null,
      "outputs": [
        {
          "output_type": "display_data",
          "data": {
            "text/plain": [
              "<Figure size 640x480 with 1 Axes>"
            ],
            "image/png": "[encoded data removed]"
          },
          "metadata": {}
        },
        {
          "output_type": "stream",
          "name": "stdout",
          "text": [
            "0    21\n",
            "1    21\n",
            "Name: rob, dtype: int64\n"
          ]
        }
      ]
    },
    {
      "cell_type": "code",
      "source": [
        "databanjir.info()"
      ],
      "metadata": {
        "colab": {
          "base_uri": "https://localhost:8080/"
        },
        "id": "8h-lg3BR9zS1",
        "outputId": "de597ce3-2f7a-4cac-99dc-885f983008ff"
      },
      "execution_count": null,
      "outputs": [
        {
          "output_type": "stream",
          "name": "stdout",
          "text": [
            "<class 'pandas.core.frame.DataFrame'>\n",
            "RangeIndex: 42 entries, 0 to 41\n",
            "Data columns (total 6 columns):\n",
            " #   Column          Non-Null Count  Dtype  \n",
            "---  ------          --------------  -----  \n",
            " 0   TinggiLaut      42 non-null     float64\n",
            " 1   KecepatanAngin  42 non-null     int64  \n",
            " 2   GangguanCuaca   42 non-null     int64  \n",
            " 3   Gelombang       42 non-null     float64\n",
            " 4   Astronomi       42 non-null     int64  \n",
            " 5   rob             42 non-null     int64  \n",
            "dtypes: float64(2), int64(4)\n",
            "memory usage: 2.1 KB\n"
          ]
        }
      ]
    },
    {
      "cell_type": "code",
      "source": [
        "fig, ax = plt.subplots(figsize=(17,7))\n",
        "sns.heatmap(databanjir.describe(),annot=True,fmt=\".2f\",cmap='BuGn')\n",
        "plt.show"
      ],
      "metadata": {
        "colab": {
          "base_uri": "https://localhost:8080/",
          "height": 616
        },
        "id": "Hlxu6nX199XU",
        "outputId": "1f85a7fd-092e-4e81-8f18-65e4ab68aab3"
      },
      "execution_count": null,
      "outputs": [
        {
          "output_type": "execute_result",
          "data": {
            "text/plain": [
              "<function matplotlib.pyplot.show(close=None, block=None)>"
            ]
          },
          "metadata": {},
          "execution_count": 14
        },
        {
          "output_type": "display_data",
          "data": {
            "text/plain": [
              "<Figure size 1700x700 with 2 Axes>"
            ],
            "image/png": "[encoded data removed]"
          },
          "metadata": {}
        }
      ]
    },
    {
      "cell_type": "code",
      "source": [
        "fig, ax = plt.subplots(figsize=(18,9))\n",
        "sns.heatmap(databanjir.corr(),annot=True, fmt=\".2f\",cmap='BuGn')\n",
        "plt.show()"
      ],
      "metadata": {
        "colab": {
          "base_uri": "https://localhost:8080/",
          "height": 729
        },
        "id": "cUpNcvWV-o-A",
        "outputId": "d1e64ef7-a487-4c43-83e4-c6bfec5b2c61"
      },
      "execution_count": null,
      "outputs": [
        {
          "output_type": "display_data",
          "data": {
            "text/plain": [
              "<Figure size 1800x900 with 2 Axes>"
            ],
            "image/png": "[encoded data removed]"
          },
          "metadata": {}
        }
      ]
    },
    {
      "cell_type": "code",
      "source": [
        "X = databanjir.drop (columns='rob', axis=1)\n",
        "Y = databanjir['rob']"
      ],
      "metadata": {
        "id": "_mra7WQc_d2H"
      },
      "execution_count": null,
      "outputs": []
    },
    {
      "cell_type": "code",
      "source": [
        "print(X)"
      ],
      "metadata": {
        "colab": {
          "base_uri": "https://localhost:8080/"
        },
        "id": "Rzq9yhyo_1Ib",
        "outputId": "13496358-c344-42f9-893d-c768bb0dfb36"
      },
      "execution_count": null,
      "outputs": [
        {
          "output_type": "stream",
          "name": "stdout",
          "text": [
            "    TinggiLaut  KecepatanAngin  GangguanCuaca  Gelombang  Astronomi\n",
            "0     1.000000               0              1   1.250000          0\n",
            "1     1.100000               0              1   1.250000          0\n",
            "2     1.200000               0              1   1.000000          1\n",
            "3     1.300000              15              1   1.000000          1\n",
            "4     1.400000              10              1   0.750000          1\n",
            "5     1.400000              15              1   0.750000          1\n",
            "6     1.500000              15              1   0.750000          1\n",
            "7     1.500000              25              1   1.500000          1\n",
            "8     1.500000              15              1   2.000000          1\n",
            "9     1.500000              15              1   2.000000          1\n",
            "10    1.400000               8              1   2.000000          1\n",
            "11    1.400000               8              0   1.500000          0\n",
            "12    1.200000              10              0   1.500000          0\n",
            "13    1.200000              15              0   0.750000          0\n",
            "14    1.300000              25              0   1.250000          0\n",
            "15    1.400000              25              0   1.250000          1\n",
            "16    1.500000              15              0   1.000000          1\n",
            "17    1.500000              20              1   1.250000          1\n",
            "18    1.600000              15              1   1.250000          1\n",
            "19    1.600000              20              1   1.250000          1\n",
            "20    1.600000              25              1   1.500000          1\n",
            "21    1.500000              20              0   1.500000          0\n",
            "22    1.400000              20              0   1.500000          0\n",
            "23    1.300000              20              0   0.500000          0\n",
            "24    1.200000              15              0   0.500000          0\n",
            "25    1.200000               0              1   1.000000          1\n",
            "26    1.300000              10              1   1.000000          1\n",
            "27    1.400000              10              1   1.000000          1\n",
            "28    1.500000              15              1   1.500000          1\n",
            "29    1.600000              20              1   1.500000          1\n",
            "30    1.600000              25              1   1.500000          1\n",
            "31    1.600000              20              1   1.500000          0\n",
            "32    1.600000              15              1   1.500000          0\n",
            "33    1.500000              15              1   1.853207          1\n",
            "34    1.500000              15              1   1.800035          1\n",
            "35    1.600000              25              1   1.500000          1\n",
            "36    1.600000              25              1   1.500000          1\n",
            "37    1.600000              19              1   1.500000          0\n",
            "38    1.544022              15              1   1.669832          1\n",
            "39    1.582298              15              1   1.382763          1\n",
            "40    1.500000              15              1   1.061439          1\n",
            "41    1.600000              24              1   1.500000          0\n"
          ]
        }
      ]
    },
    {
      "cell_type": "code",
      "source": [
        "print(Y)"
      ],
      "metadata": {
        "colab": {
          "base_uri": "https://localhost:8080/"
        },
        "id": "GjpOStz0_7u6",
        "outputId": "935b3f8d-2956-40e5-bbaf-d7966740ba9d"
      },
      "execution_count": null,
      "outputs": [
        {
          "output_type": "stream",
          "name": "stdout",
          "text": [
            "0     0\n",
            "1     0\n",
            "2     0\n",
            "3     0\n",
            "4     0\n",
            "5     0\n",
            "6     1\n",
            "7     1\n",
            "8     1\n",
            "9     1\n",
            "10    0\n",
            "11    0\n",
            "12    0\n",
            "13    0\n",
            "14    0\n",
            "15    0\n",
            "16    0\n",
            "17    0\n",
            "18    1\n",
            "19    1\n",
            "20    1\n",
            "21    0\n",
            "22    0\n",
            "23    0\n",
            "24    0\n",
            "25    0\n",
            "26    0\n",
            "27    0\n",
            "28    1\n",
            "29    1\n",
            "30    1\n",
            "31    1\n",
            "32    1\n",
            "33    1\n",
            "34    1\n",
            "35    1\n",
            "36    1\n",
            "37    1\n",
            "38    1\n",
            "39    1\n",
            "40    1\n",
            "41    1\n",
            "Name: rob, dtype: int64\n"
          ]
        }
      ]
    },
    {
      "cell_type": "markdown",
      "source": [
        "## **STANDARISASI DATA**"
      ],
      "metadata": {
        "id": "OmCrUlCQAQ0e"
      }
    },
    {
      "cell_type": "code",
      "source": [
        "scaler = StandardScaler()"
      ],
      "metadata": {
        "id": "b1cK1uh0AUJF"
      },
      "execution_count": null,
      "outputs": []
    },
    {
      "cell_type": "code",
      "source": [
        "scaler.fit(X)"
      ],
      "metadata": {
        "colab": {
          "base_uri": "https://localhost:8080/",
          "height": 75
        },
        "id": "2La8DKVDAb83",
        "outputId": "c7c96626-e1a7-499b-c532-aafbc60f2308"
      },
      "execution_count": null,
      "outputs": [
        {
          "output_type": "execute_result",
          "data": {
            "text/plain": [
              "StandardScaler()"
            ],
            "text/html": [
              "<style>#sk-container-id-1 {color: black;background-color: white;}#sk-container-id-1 pre{padding: 0;}#sk-container-id-1 div.sk-toggleable {background-color: white;}#sk-container-id-1 label.sk-toggleable__label {cursor: pointer;display: block;width: 100%;margin-bottom: 0;padding: 0.3em;box-sizing: border-box;text-align: center;}#sk-container-id-1 label.sk-toggleable__label-arrow:before {content: \"▸\";float: left;margin-right: 0.25em;color: #696969;}#sk-container-id-1 label.sk-toggleable__label-arrow:hover:before {color: black;}#sk-container-id-1 div.sk-estimator:hover label.sk-toggleable__label-arrow:before {color: black;}#sk-container-id-1 div.sk-toggleable__content {max-height: 0;max-width: 0;overflow: hidden;text-align: left;background-color: #f0f8ff;}#sk-container-id-1 div.sk-toggleable__content pre {margin: 0.2em;color: black;border-radius: 0.25em;background-color: #f0f8ff;}#sk-container-id-1 input.sk-toggleable__control:checked~div.sk-toggleable__content {max-height: 200px;max-width: 100%;overflow: auto;}#sk-container-id-1 input.sk-toggleable__control:checked~label.sk-toggleable__label-arrow:before {content: \"▾\";}#sk-container-id-1 div.sk-estimator input.sk-toggleable__control:checked~label.sk-toggleable__label {background-color: #d4ebff;}#sk-container-id-1 div.sk-label input.sk-toggleable__control:checked~label.sk-toggleable__label {background-color: #d4ebff;}#sk-container-id-1 input.sk-hidden--visually {border: 0;clip: rect(1px 1px 1px 1px);clip: rect(1px, 1px, 1px, 1px);height: 1px;margin: -1px;overflow: hidden;padding: 0;position: absolute;width: 1px;}#sk-container-id-1 div.sk-estimator {font-family: monospace;background-color: #f0f8ff;border: 1px dotted black;border-radius: 0.25em;box-sizing: border-box;margin-bottom: 0.5em;}#sk-container-id-1 div.sk-estimator:hover {background-color: #d4ebff;}#sk-container-id-1 div.sk-parallel-item::after {content: \"\";width: 100%;border-bottom: 1px solid gray;flex-grow: 1;}#sk-container-id-1 div.sk-label:hover label.sk-toggleable__label {background-color: #d4ebff;}#sk-container-id-1 div.sk-serial::before {content: \"\";position: absolute;border-left: 1px solid gray;box-sizing: border-box;top: 0;bottom: 0;left: 50%;z-index: 0;}#sk-container-id-1 div.sk-serial {display: flex;flex-direction: column;align-items: center;background-color: white;padding-right: 0.2em;padding-left: 0.2em;position: relative;}#sk-container-id-1 div.sk-item {position: relative;z-index: 1;}#sk-container-id-1 div.sk-parallel {display: flex;align-items: stretch;justify-content: center;background-color: white;position: relative;}#sk-container-id-1 div.sk-item::before, #sk-container-id-1 div.sk-parallel-item::before {content: \"\";position: absolute;border-left: 1px solid gray;box-sizing: border-box;top: 0;bottom: 0;left: 50%;z-index: -1;}#sk-container-id-1 div.sk-parallel-item {display: flex;flex-direction: column;z-index: 1;position: relative;background-color: white;}#sk-container-id-1 div.sk-parallel-item:first-child::after {align-self: flex-end;width: 50%;}#sk-container-id-1 div.sk-parallel-item:last-child::after {align-self: flex-start;width: 50%;}#sk-container-id-1 div.sk-parallel-item:only-child::after {width: 0;}#sk-container-id-1 div.sk-dashed-wrapped {border: 1px dashed gray;margin: 0 0.4em 0.5em 0.4em;box-sizing: border-box;padding-bottom: 0.4em;background-color: white;}#sk-container-id-1 div.sk-label label {font-family: monospace;font-weight: bold;display: inline-block;line-height: 1.2em;}#sk-container-id-1 div.sk-label-container {text-align: center;}#sk-container-id-1 div.sk-container {/* jupyter's `normalize.less` sets `[hidden] { display: none; }` but bootstrap.min.css set `[hidden] { display: none !important; }` so we also need the `!important` here to be able to override the default hidden behavior on the sphinx rendered scikit-learn.org. See: https://github.com/scikit-learn/scikit-learn/issues/21755 */display: inline-block !important;position: relative;}#sk-container-id-1 div.sk-text-repr-fallback {display: none;}</style><div id=\"sk-container-id-1\" class=\"sk-top-container\"><div class=\"sk-text-repr-fallback\"><pre>StandardScaler()</pre><b>In a Jupyter environment, please rerun this cell to show the HTML representation or trust the notebook. <br />On GitHub, the HTML representation is unable to render, please try loading this page with nbviewer.org.</b></div><div class=\"sk-container\" hidden><div class=\"sk-item\"><div class=\"sk-estimator sk-toggleable\"><input class=\"sk-toggleable__control sk-hidden--visually\" id=\"sk-estimator-id-1\" type=\"checkbox\" checked><label for=\"sk-estimator-id-1\" class=\"sk-toggleable__label sk-toggleable__label-arrow\">StandardScaler</label><div class=\"sk-toggleable__content\"><pre>StandardScaler()</pre></div></div></div></div></div>"
            ]
          },
          "metadata": {},
          "execution_count": 20
        }
      ]
    },
    {
      "cell_type": "code",
      "source": [
        "standarized_data = scaler.transform(X)"
      ],
      "metadata": {
        "id": "sigd9bwzAiGd"
      },
      "execution_count": null,
      "outputs": []
    },
    {
      "cell_type": "code",
      "source": [
        "print(standarized_data)"
      ],
      "metadata": {
        "colab": {
          "base_uri": "https://localhost:8080/"
        },
        "id": "wtkb1iP7Ao26",
        "outputId": "8a92f09b-8f53-4c59-d92e-782fb3f43d59"
      },
      "execution_count": null,
      "outputs": [
        {
          "output_type": "stream",
          "name": "stdout",
          "text": [
            "[[-2.77489077 -2.22541686  0.55901699 -0.16032029 -1.41421356]\n",
            " [-2.13894527 -2.22541686  0.55901699 -0.16032029 -1.41421356]\n",
            " [-1.50299976 -2.22541686  0.55901699 -0.82904427  0.70710678]\n",
            " [-0.86705426 -0.08166667  0.55901699 -0.82904427  0.70710678]\n",
            " [-0.23110875 -0.79625007  0.55901699 -1.49776825  0.70710678]\n",
            " [-0.23110875 -0.08166667  0.55901699 -1.49776825  0.70710678]\n",
            " [ 0.40483675 -0.08166667  0.55901699 -1.49776825  0.70710678]\n",
            " [ 0.40483675  1.34750012  0.55901699  0.50840369  0.70710678]\n",
            " [ 0.40483675 -0.08166667  0.55901699  1.84585165  0.70710678]\n",
            " [ 0.40483675 -0.08166667  0.55901699  1.84585165  0.70710678]\n",
            " [-0.23110875 -1.08208343  0.55901699  1.84585165  0.70710678]\n",
            " [-0.23110875 -1.08208343 -1.78885438  0.50840369 -1.41421356]\n",
            " [-1.50299976 -0.79625007 -1.78885438  0.50840369 -1.41421356]\n",
            " [-1.50299976 -0.08166667 -1.78885438 -1.49776825 -1.41421356]\n",
            " [-0.86705426  1.34750012 -1.78885438 -0.16032029 -1.41421356]\n",
            " [-0.23110875  1.34750012 -1.78885438 -0.16032029  0.70710678]\n",
            " [ 0.40483675 -0.08166667 -1.78885438 -0.82904427  0.70710678]\n",
            " [ 0.40483675  0.63291672  0.55901699 -0.16032029  0.70710678]\n",
            " [ 1.04078225 -0.08166667  0.55901699 -0.16032029  0.70710678]\n",
            " [ 1.04078225  0.63291672  0.55901699 -0.16032029  0.70710678]\n",
            " [ 1.04078225  1.34750012  0.55901699  0.50840369  0.70710678]\n",
            " [ 0.40483675  0.63291672 -1.78885438  0.50840369 -1.41421356]\n",
            " [-0.23110875  0.63291672 -1.78885438  0.50840369 -1.41421356]\n",
            " [-0.86705426  0.63291672 -1.78885438 -2.16649223 -1.41421356]\n",
            " [-1.50299976 -0.08166667 -1.78885438 -2.16649223 -1.41421356]\n",
            " [-1.50299976 -2.22541686  0.55901699 -0.82904427  0.70710678]\n",
            " [-0.86705426 -0.79625007  0.55901699 -0.82904427  0.70710678]\n",
            " [-0.23110875 -0.79625007  0.55901699 -0.82904427  0.70710678]\n",
            " [ 0.40483675 -0.08166667  0.55901699  0.50840369  0.70710678]\n",
            " [ 1.04078225  0.63291672  0.55901699  0.50840369  0.70710678]\n",
            " [ 1.04078225  1.34750012  0.55901699  0.50840369  0.70710678]\n",
            " [ 1.04078225  0.63291672  0.55901699  0.50840369 -1.41421356]\n",
            " [ 1.04078225 -0.08166667  0.55901699  0.50840369 -1.41421356]\n",
            " [ 0.40483675 -0.08166667  0.55901699  1.45319619  0.70710678]\n",
            " [ 0.40483675 -0.08166667  0.55901699  1.31096719  0.70710678]\n",
            " [ 1.04078225  1.34750012  0.55901699  0.50840369  0.70710678]\n",
            " [ 1.04078225  1.34750012  0.55901699  0.50840369  0.70710678]\n",
            " [ 1.04078225  0.49000004  0.55901699  0.50840369 -1.41421356]\n",
            " [ 0.68479494 -0.08166667  0.55901699  0.96268751  0.70710678]\n",
            " [ 0.92820918 -0.08166667  0.55901699  0.19480596  0.70710678]\n",
            " [ 0.40483675 -0.08166667  0.55901699 -0.66470205  0.70710678]\n",
            " [ 1.04078225  1.20458344  0.55901699  0.50840369 -1.41421356]]\n"
          ]
        }
      ]
    },
    {
      "cell_type": "code",
      "source": [
        "X = standarized_data\n",
        "Y = databanjir['rob']"
      ],
      "metadata": {
        "id": "ZotDG2BGA3lC"
      },
      "execution_count": null,
      "outputs": []
    },
    {
      "cell_type": "code",
      "source": [
        "print(X)\n",
        "print(Y)"
      ],
      "metadata": {
        "colab": {
          "base_uri": "https://localhost:8080/"
        },
        "id": "N_JJD12rBAYT",
        "outputId": "310a5d29-8cae-4219-fbac-14888ede6678"
      },
      "execution_count": null,
      "outputs": [
        {
          "output_type": "stream",
          "name": "stdout",
          "text": [
            "[[-2.77489077 -2.22541686  0.55901699 -0.16032029 -1.41421356]\n",
            " [-2.13894527 -2.22541686  0.55901699 -0.16032029 -1.41421356]\n",
            " [-1.50299976 -2.22541686  0.55901699 -0.82904427  0.70710678]\n",
            " [-0.86705426 -0.08166667  0.55901699 -0.82904427  0.70710678]\n",
            " [-0.23110875 -0.79625007  0.55901699 -1.49776825  0.70710678]\n",
            " [-0.23110875 -0.08166667  0.55901699 -1.49776825  0.70710678]\n",
            " [ 0.40483675 -0.08166667  0.55901699 -1.49776825  0.70710678]\n",
            " [ 0.40483675  1.34750012  0.55901699  0.50840369  0.70710678]\n",
            " [ 0.40483675 -0.08166667  0.55901699  1.84585165  0.70710678]\n",
            " [ 0.40483675 -0.08166667  0.55901699  1.84585165  0.70710678]\n",
            " [-0.23110875 -1.08208343  0.55901699  1.84585165  0.70710678]\n",
            " [-0.23110875 -1.08208343 -1.78885438  0.50840369 -1.41421356]\n",
            " [-1.50299976 -0.79625007 -1.78885438  0.50840369 -1.41421356]\n",
            " [-1.50299976 -0.08166667 -1.78885438 -1.49776825 -1.41421356]\n",
            " [-0.86705426  1.34750012 -1.78885438 -0.16032029 -1.41421356]\n",
            " [-0.23110875  1.34750012 -1.78885438 -0.16032029  0.70710678]\n",
            " [ 0.40483675 -0.08166667 -1.78885438 -0.82904427  0.70710678]\n",
            " [ 0.40483675  0.63291672  0.55901699 -0.16032029  0.70710678]\n",
            " [ 1.04078225 -0.08166667  0.55901699 -0.16032029  0.70710678]\n",
            " [ 1.04078225  0.63291672  0.55901699 -0.16032029  0.70710678]\n",
            " [ 1.04078225  1.34750012  0.55901699  0.50840369  0.70710678]\n",
            " [ 0.40483675  0.63291672 -1.78885438  0.50840369 -1.41421356]\n",
            " [-0.23110875  0.63291672 -1.78885438  0.50840369 -1.41421356]\n",
            " [-0.86705426  0.63291672 -1.78885438 -2.16649223 -1.41421356]\n",
            " [-1.50299976 -0.08166667 -1.78885438 -2.16649223 -1.41421356]\n",
            " [-1.50299976 -2.22541686  0.55901699 -0.82904427  0.70710678]\n",
            " [-0.86705426 -0.79625007  0.55901699 -0.82904427  0.70710678]\n",
            " [-0.23110875 -0.79625007  0.55901699 -0.82904427  0.70710678]\n",
            " [ 0.40483675 -0.08166667  0.55901699  0.50840369  0.70710678]\n",
            " [ 1.04078225  0.63291672  0.55901699  0.50840369  0.70710678]\n",
            " [ 1.04078225  1.34750012  0.55901699  0.50840369  0.70710678]\n",
            " [ 1.04078225  0.63291672  0.55901699  0.50840369 -1.41421356]\n",
            " [ 1.04078225 -0.08166667  0.55901699  0.50840369 -1.41421356]\n",
            " [ 0.40483675 -0.08166667  0.55901699  1.45319619  0.70710678]\n",
            " [ 0.40483675 -0.08166667  0.55901699  1.31096719  0.70710678]\n",
            " [ 1.04078225  1.34750012  0.55901699  0.50840369  0.70710678]\n",
            " [ 1.04078225  1.34750012  0.55901699  0.50840369  0.70710678]\n",
            " [ 1.04078225  0.49000004  0.55901699  0.50840369 -1.41421356]\n",
            " [ 0.68479494 -0.08166667  0.55901699  0.96268751  0.70710678]\n",
            " [ 0.92820918 -0.08166667  0.55901699  0.19480596  0.70710678]\n",
            " [ 0.40483675 -0.08166667  0.55901699 -0.66470205  0.70710678]\n",
            " [ 1.04078225  1.20458344  0.55901699  0.50840369 -1.41421356]]\n",
            "0     0\n",
            "1     0\n",
            "2     0\n",
            "3     0\n",
            "4     0\n",
            "5     0\n",
            "6     1\n",
            "7     1\n",
            "8     1\n",
            "9     1\n",
            "10    0\n",
            "11    0\n",
            "12    0\n",
            "13    0\n",
            "14    0\n",
            "15    0\n",
            "16    0\n",
            "17    0\n",
            "18    1\n",
            "19    1\n",
            "20    1\n",
            "21    0\n",
            "22    0\n",
            "23    0\n",
            "24    0\n",
            "25    0\n",
            "26    0\n",
            "27    0\n",
            "28    1\n",
            "29    1\n",
            "30    1\n",
            "31    1\n",
            "32    1\n",
            "33    1\n",
            "34    1\n",
            "35    1\n",
            "36    1\n",
            "37    1\n",
            "38    1\n",
            "39    1\n",
            "40    1\n",
            "41    1\n",
            "Name: rob, dtype: int64\n"
          ]
        }
      ]
    },
    {
      "cell_type": "markdown",
      "source": [
        "## **MEMISAHKAN DATA TRAINING DAN DATA TESTING**"
      ],
      "metadata": {
        "id": "EQuDuS0ABMcQ"
      }
    },
    {
      "cell_type": "code",
      "source": [
        "X_train, X_test, Y_train, Y_test = train_test_split(X, Y, test_size=0.2, stratify=Y, random_state=2)"
      ],
      "metadata": {
        "id": "ej-0k162BRgH"
      },
      "execution_count": null,
      "outputs": []
    },
    {
      "cell_type": "code",
      "source": [
        "print(X.shape, X_train.shape, X_test.shape)"
      ],
      "metadata": {
        "colab": {
          "base_uri": "https://localhost:8080/"
        },
        "id": "MuDKJe2WBy0M",
        "outputId": "6f93fe26-7054-4b73-b8c9-f32ed3863af5"
      },
      "execution_count": null,
      "outputs": [
        {
          "output_type": "stream",
          "name": "stdout",
          "text": [
            "(42, 5) (33, 5) (9, 5)\n"
          ]
        }
      ]
    },
    {
      "cell_type": "markdown",
      "source": [
        "## **MENGOLAH DATA DENGAN ALGORITMA SVM**"
      ],
      "metadata": {
        "id": "4CORlnwTCCbO"
      }
    },
    {
      "cell_type": "code",
      "source": [
        "classifier = svm.SVC(kernel='linear')"
      ],
      "metadata": {
        "id": "ohRHZKeICHHe"
      },
      "execution_count": null,
      "outputs": []
    },
    {
      "cell_type": "code",
      "source": [
        "classifier.fit(X_train, Y_train)"
      ],
      "metadata": {
        "colab": {
          "base_uri": "https://localhost:8080/",
          "height": 75
        },
        "id": "ndx5r39dCX8k",
        "outputId": "c8aa4d2b-4290-4621-979d-b6da7bdd159d"
      },
      "execution_count": null,
      "outputs": [
        {
          "output_type": "execute_result",
          "data": {
            "text/plain": [
              "SVC(kernel='linear')"
            ],
            "text/html": [
              "<style>#sk-container-id-2 {color: black;background-color: white;}#sk-container-id-2 pre{padding: 0;}#sk-container-id-2 div.sk-toggleable {background-color: white;}#sk-container-id-2 label.sk-toggleable__label {cursor: pointer;display: block;width: 100%;margin-bottom: 0;padding: 0.3em;box-sizing: border-box;text-align: center;}#sk-container-id-2 label.sk-toggleable__label-arrow:before {content: \"▸\";float: left;margin-right: 0.25em;color: #696969;}#sk-container-id-2 label.sk-toggleable__label-arrow:hover:before {color: black;}#sk-container-id-2 div.sk-estimator:hover label.sk-toggleable__label-arrow:before {color: black;}#sk-container-id-2 div.sk-toggleable__content {max-height: 0;max-width: 0;overflow: hidden;text-align: left;background-color: #f0f8ff;}#sk-container-id-2 div.sk-toggleable__content pre {margin: 0.2em;color: black;border-radius: 0.25em;background-color: #f0f8ff;}#sk-container-id-2 input.sk-toggleable__control:checked~div.sk-toggleable__content {max-height: 200px;max-width: 100%;overflow: auto;}#sk-container-id-2 input.sk-toggleable__control:checked~label.sk-toggleable__label-arrow:before {content: \"▾\";}#sk-container-id-2 div.sk-estimator input.sk-toggleable__control:checked~label.sk-toggleable__label {background-color: #d4ebff;}#sk-container-id-2 div.sk-label input.sk-toggleable__control:checked~label.sk-toggleable__label {background-color: #d4ebff;}#sk-container-id-2 input.sk-hidden--visually {border: 0;clip: rect(1px 1px 1px 1px);clip: rect(1px, 1px, 1px, 1px);height: 1px;margin: -1px;overflow: hidden;padding: 0;position: absolute;width: 1px;}#sk-container-id-2 div.sk-estimator {font-family: monospace;background-color: #f0f8ff;border: 1px dotted black;border-radius: 0.25em;box-sizing: border-box;margin-bottom: 0.5em;}#sk-container-id-2 div.sk-estimator:hover {background-color: #d4ebff;}#sk-container-id-2 div.sk-parallel-item::after {content: \"\";width: 100%;border-bottom: 1px solid gray;flex-grow: 1;}#sk-container-id-2 div.sk-label:hover label.sk-toggleable__label {background-color: #d4ebff;}#sk-container-id-2 div.sk-serial::before {content: \"\";position: absolute;border-left: 1px solid gray;box-sizing: border-box;top: 0;bottom: 0;left: 50%;z-index: 0;}#sk-container-id-2 div.sk-serial {display: flex;flex-direction: column;align-items: center;background-color: white;padding-right: 0.2em;padding-left: 0.2em;position: relative;}#sk-container-id-2 div.sk-item {position: relative;z-index: 1;}#sk-container-id-2 div.sk-parallel {display: flex;align-items: stretch;justify-content: center;background-color: white;position: relative;}#sk-container-id-2 div.sk-item::before, #sk-container-id-2 div.sk-parallel-item::before {content: \"\";position: absolute;border-left: 1px solid gray;box-sizing: border-box;top: 0;bottom: 0;left: 50%;z-index: -1;}#sk-container-id-2 div.sk-parallel-item {display: flex;flex-direction: column;z-index: 1;position: relative;background-color: white;}#sk-container-id-2 div.sk-parallel-item:first-child::after {align-self: flex-end;width: 50%;}#sk-container-id-2 div.sk-parallel-item:last-child::after {align-self: flex-start;width: 50%;}#sk-container-id-2 div.sk-parallel-item:only-child::after {width: 0;}#sk-container-id-2 div.sk-dashed-wrapped {border: 1px dashed gray;margin: 0 0.4em 0.5em 0.4em;box-sizing: border-box;padding-bottom: 0.4em;background-color: white;}#sk-container-id-2 div.sk-label label {font-family: monospace;font-weight: bold;display: inline-block;line-height: 1.2em;}#sk-container-id-2 div.sk-label-container {text-align: center;}#sk-container-id-2 div.sk-container {/* jupyter's `normalize.less` sets `[hidden] { display: none; }` but bootstrap.min.css set `[hidden] { display: none !important; }` so we also need the `!important` here to be able to override the default hidden behavior on the sphinx rendered scikit-learn.org. See: https://github.com/scikit-learn/scikit-learn/issues/21755 */display: inline-block !important;position: relative;}#sk-container-id-2 div.sk-text-repr-fallback {display: none;}</style><div id=\"sk-container-id-2\" class=\"sk-top-container\"><div class=\"sk-text-repr-fallback\"><pre>SVC(kernel=&#x27;linear&#x27;)</pre><b>In a Jupyter environment, please rerun this cell to show the HTML representation or trust the notebook. <br />On GitHub, the HTML representation is unable to render, please try loading this page with nbviewer.org.</b></div><div class=\"sk-container\" hidden><div class=\"sk-item\"><div class=\"sk-estimator sk-toggleable\"><input class=\"sk-toggleable__control sk-hidden--visually\" id=\"sk-estimator-id-2\" type=\"checkbox\" checked><label for=\"sk-estimator-id-2\" class=\"sk-toggleable__label sk-toggleable__label-arrow\">SVC</label><div class=\"sk-toggleable__content\"><pre>SVC(kernel=&#x27;linear&#x27;)</pre></div></div></div></div></div>"
            ]
          },
          "metadata": {},
          "execution_count": 28
        }
      ]
    },
    {
      "cell_type": "markdown",
      "source": [
        "## **MEMBUAT MODEL UNTUK MENGUKUR AKURASI**"
      ],
      "metadata": {
        "id": "VwSp6_byChzk"
      }
    },
    {
      "cell_type": "code",
      "source": [
        "X_train_prediction = classifier.predict(X_train)\n",
        "training_data_accuracy = accuracy_score(X_train_prediction, Y_train)"
      ],
      "metadata": {
        "id": "wgq5Eou3CmD_"
      },
      "execution_count": null,
      "outputs": []
    },
    {
      "cell_type": "code",
      "source": [
        "print('Akurasi data training adalah = ', training_data_accuracy)"
      ],
      "metadata": {
        "colab": {
          "base_uri": "https://localhost:8080/"
        },
        "id": "4UA6hX4VDC9M",
        "outputId": "ab941602-957a-4955-f5a7-e167f6905194"
      },
      "execution_count": null,
      "outputs": [
        {
          "output_type": "stream",
          "name": "stdout",
          "text": [
            "Akurasi data training adalah =  1.0\n"
          ]
        }
      ]
    },
    {
      "cell_type": "code",
      "source": [
        "X_test_prediction = classifier.predict(X_test)\n",
        "test_data_accuracy = accuracy_score(X_test_prediction, Y_test)"
      ],
      "metadata": {
        "id": "NUL_1ySIDXr3"
      },
      "execution_count": null,
      "outputs": []
    },
    {
      "cell_type": "code",
      "source": [
        "print('Akurasi data test adalah = ', test_data_accuracy)"
      ],
      "metadata": {
        "colab": {
          "base_uri": "https://localhost:8080/"
        },
        "id": "gmqTV3XWDpuI",
        "outputId": "3a837e92-06f9-4d3f-da0b-e9cf925759c9"
      },
      "execution_count": null,
      "outputs": [
        {
          "output_type": "stream",
          "name": "stdout",
          "text": [
            "Akurasi data test adalah =  0.8888888888888888\n"
          ]
        }
      ]
    },
    {
      "cell_type": "markdown",
      "source": [
        "# **MEMBUAT MODEL PREDIKSI**"
      ],
      "metadata": {
        "id": "0gEpRopsEFxA"
      }
    },
    {
      "cell_type": "code",
      "source": [
        "input_data = (1.5, 15, 1, 0.75, 1)\n",
        "\n",
        "input_data_as_numpy_array = np.array(input_data)\n",
        "\n",
        "input_data_reshape = input_data_as_numpy_array.reshape(1, -1)\n",
        "\n",
        "std_data = scaler.transform(input_data_reshape)\n",
        "print(std_data)\n",
        "\n",
        "prediction = classifier.predict(std_data)\n",
        "print(std_data)\n",
        "\n",
        "if prediction[0] == 0:\n",
        "    result = 'Tidak berpotensi naiknya air laut dan banjir'\n",
        "else:\n",
        "    result = 'Berpotensi naiknya air laut menyebabkan banjir'\n",
        "\n",
        "print(result)\n"
      ],
      "metadata": {
        "colab": {
          "base_uri": "https://localhost:8080/"
        },
        "id": "sJfnWrBgELeU",
        "outputId": "9df59be6-b82d-421e-916b-7c58016744bd"
      },
      "execution_count": null,
      "outputs": [
        {
          "output_type": "stream",
          "name": "stdout",
          "text": [
            "[[ 0.40483675 -0.08166667  0.55901699 -1.49776825  0.70710678]]\n",
            "[[ 0.40483675 -0.08166667  0.55901699 -1.49776825  0.70710678]]\n",
            "Berpotensi naiknya air laut menyebabkan banjir\n"
          ]
        },
        {
          "output_type": "stream",
          "name": "stderr",
          "text": [
            "/usr/local/lib/python3.10/dist-packages/sklearn/base.py:439: UserWarning: X does not have valid feature names, but StandardScaler was fitted with feature names\n",
            "  warnings.warn(\n"
          ]
        }
      ]
    },
    {
      "cell_type": "code",
      "source": [],
      "metadata": {
        "id": "96-S7YNwtY1i"
      },
      "execution_count": null,
      "outputs": []
    },
    {
      "cell_type": "markdown",
      "source": [
        "## **SIMPAN MODEL**"
      ],
      "metadata": {
        "id": "-Z4aaX73JOCH"
      }
    },
    {
      "cell_type": "code",
      "source": [
        "import pickle"
      ],
      "metadata": {
        "id": "NDobY0bAJRe5"
      },
      "execution_count": null,
      "outputs": []
    },
    {
      "cell_type": "code",
      "source": [
        "filename = 'coba.csv'\n",
        "pickle.dump(classifier, open(filename,'wb'))"
      ],
      "metadata": {
        "id": "wDS3KSuwJU5Q"
      },
      "execution_count": null,
      "outputs": []
    }
  ]
}