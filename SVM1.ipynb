{
 "cells": [
  {
   "cell_type": "code",
   "execution_count": 1,
   "metadata": {},
   "outputs": [],
   "source": [
    "import numpy as np\n",
    "import pandas as pd\n",
    "import seaborn as sns\n",
    "from sklearn.preprocessing import StandardScaler\n",
    "from sklearn.model_selection import train_test_split\n",
    "from sklearn import svm\n",
    "from sklearn.metrics import accuracy_score\n",
    "from matplotlib import pyplot as plt"
   ]
  },
  {
   "cell_type": "code",
   "execution_count": 2,
   "metadata": {},
   "outputs": [
    {
     "name": "stdout",
     "output_type": "stream",
     "text": [
      "    TinggiLaut  KecepatanAngin  GangguanCuaca  Gelombang  Astronomi  rob\n",
      "0     1.000000               0              1   1.250000          0    0\n",
      "1     1.100000               0              1   1.250000          0    0\n",
      "2     1.200000               0              1   1.000000          1    0\n",
      "3     1.300000              15              1   1.000000          1    0\n",
      "4     1.400000              10              1   0.750000          1    0\n",
      "5     1.400000              15              1   0.750000          1    0\n",
      "6     1.500000              15              1   0.750000          1    1\n",
      "7     1.500000              25              1   1.500000          1    1\n",
      "8     1.500000              15              1   2.000000          1    1\n",
      "9     1.500000              15              1   2.000000          1    1\n",
      "10    1.400000               8              1   2.000000          1    0\n",
      "11    1.400000               8              0   1.500000          0    0\n",
      "12    1.200000              10              0   1.500000          0    0\n",
      "13    1.200000              15              0   0.750000          0    0\n",
      "14    1.300000              25              0   1.250000          0    0\n",
      "15    1.400000              25              0   1.250000          1    0\n",
      "16    1.500000              15              0   1.000000          1    0\n",
      "17    1.500000              20              1   1.250000          1    0\n",
      "18    1.600000              15              1   1.250000          1    1\n",
      "19    1.600000              20              1   1.250000          1    1\n",
      "20    1.600000              25              1   1.500000          1    1\n",
      "21    1.500000              20              0   1.500000          0    0\n",
      "22    1.400000              20              0   1.500000          0    0\n",
      "23    1.300000              20              0   0.500000          0    0\n",
      "24    1.200000              15              0   0.500000          0    0\n",
      "25    1.200000               0              1   1.000000          1    0\n",
      "26    1.300000              10              1   1.000000          1    0\n",
      "27    1.400000              10              1   1.000000          1    0\n",
      "28    1.500000              15              1   1.500000          1    1\n",
      "29    1.600000              20              1   1.500000          1    1\n",
      "30    1.600000              25              1   1.500000          1    1\n",
      "31    1.600000              20              1   1.500000          0    1\n",
      "32    1.600000              15              1   1.500000          0    1\n",
      "33    1.500000              15              1   1.853207          1    1\n",
      "34    1.500000              15              1   1.800035          1    1\n",
      "35    1.600000              25              1   1.500000          1    1\n",
      "36    1.600000              25              1   1.500000          1    1\n",
      "37    1.600000              19              1   1.500000          0    1\n",
      "38    1.544022              15              1   1.669832          1    1\n",
      "39    1.582298              15              1   1.382763          1    1\n",
      "40    1.500000              15              1   1.061439          1    1\n",
      "41    1.600000              24              1   1.500000          0    1\n"
     ]
    }
   ],
   "source": [
    "# Read the CSV file, skipping lines causing errors\n",
    "databanjir = pd.read_csv('hasilsmote.csv')\n",
    "\n",
    "# Display the data\n",
    "print(databanjir)"
   ]
  },
  {
   "cell_type": "code",
   "execution_count": 3,
   "metadata": {},
   "outputs": [
    {
     "data": {
      "text/html": [
       "<div>\n",
       "<style scoped>\n",
       "    .dataframe tbody tr th:only-of-type {\n",
       "        vertical-align: middle;\n",
       "    }\n",
       "\n",
       "    .dataframe tbody tr th {\n",
       "        vertical-align: top;\n",
       "    }\n",
       "\n",
       "    .dataframe thead th {\n",
       "        text-align: right;\n",
       "    }\n",
       "</style>\n",
       "<table border=\"1\" class=\"dataframe\">\n",
       "  <thead>\n",
       "    <tr style=\"text-align: right;\">\n",
       "      <th></th>\n",
       "      <th>TinggiLaut</th>\n",
       "      <th>KecepatanAngin</th>\n",
       "      <th>GangguanCuaca</th>\n",
       "      <th>Gelombang</th>\n",
       "      <th>Astronomi</th>\n",
       "      <th>rob</th>\n",
       "    </tr>\n",
       "  </thead>\n",
       "  <tbody>\n",
       "    <tr>\n",
       "      <th>0</th>\n",
       "      <td>1.0</td>\n",
       "      <td>0</td>\n",
       "      <td>1</td>\n",
       "      <td>1.25</td>\n",
       "      <td>0</td>\n",
       "      <td>0</td>\n",
       "    </tr>\n",
       "    <tr>\n",
       "      <th>1</th>\n",
       "      <td>1.1</td>\n",
       "      <td>0</td>\n",
       "      <td>1</td>\n",
       "      <td>1.25</td>\n",
       "      <td>0</td>\n",
       "      <td>0</td>\n",
       "    </tr>\n",
       "    <tr>\n",
       "      <th>2</th>\n",
       "      <td>1.2</td>\n",
       "      <td>0</td>\n",
       "      <td>1</td>\n",
       "      <td>1.00</td>\n",
       "      <td>1</td>\n",
       "      <td>0</td>\n",
       "    </tr>\n",
       "    <tr>\n",
       "      <th>3</th>\n",
       "      <td>1.3</td>\n",
       "      <td>15</td>\n",
       "      <td>1</td>\n",
       "      <td>1.00</td>\n",
       "      <td>1</td>\n",
       "      <td>0</td>\n",
       "    </tr>\n",
       "    <tr>\n",
       "      <th>4</th>\n",
       "      <td>1.4</td>\n",
       "      <td>10</td>\n",
       "      <td>1</td>\n",
       "      <td>0.75</td>\n",
       "      <td>1</td>\n",
       "      <td>0</td>\n",
       "    </tr>\n",
       "  </tbody>\n",
       "</table>\n",
       "</div>"
      ],
      "text/plain": [
       "   TinggiLaut  KecepatanAngin  GangguanCuaca  Gelombang  Astronomi  rob\n",
       "0         1.0               0              1       1.25          0    0\n",
       "1         1.1               0              1       1.25          0    0\n",
       "2         1.2               0              1       1.00          1    0\n",
       "3         1.3              15              1       1.00          1    0\n",
       "4         1.4              10              1       0.75          1    0"
      ]
     },
     "execution_count": 3,
     "metadata": {},
     "output_type": "execute_result"
    }
   ],
   "source": [
    "databanjir.head()"
   ]
  },
  {
   "cell_type": "code",
   "execution_count": 4,
   "metadata": {},
   "outputs": [
    {
     "data": {
      "text/plain": [
       "(42, 6)"
      ]
     },
     "execution_count": 4,
     "metadata": {},
     "output_type": "execute_result"
    }
   ],
   "source": [
    "databanjir.shape"
   ]
  },
  {
   "cell_type": "code",
   "execution_count": 5,
   "metadata": {},
   "outputs": [
    {
     "data": {
      "text/plain": [
       "Index(['TinggiLaut', 'KecepatanAngin', 'GangguanCuaca', 'Gelombang',\n",
       "       'Astronomi', 'rob'],\n",
       "      dtype='object')"
      ]
     },
     "execution_count": 5,
     "metadata": {},
     "output_type": "execute_result"
    }
   ],
   "source": [
    "databanjir.columns"
   ]
  },
  {
   "cell_type": "code",
   "execution_count": 6,
   "metadata": {},
   "outputs": [
    {
     "data": {
      "image/png": "[encoded data removed]",
      "text/plain": [
       "<Figure size 432x288 with 1 Axes>"
      ]
     },
     "metadata": {
      "needs_background": "light"
     },
     "output_type": "display_data"
    },
    {
     "name": "stdout",
     "output_type": "stream",
     "text": [
      "0    21\n",
      "1    21\n",
      "Name: rob, dtype: int64\n"
     ]
    }
   ],
   "source": [
    "import seaborn as sns\n",
    "import matplotlib.pyplot as plt\n",
    "\n",
    "# Create a count plot\n",
    "sns.countplot(data=databanjir, x='rob')\n",
    "\n",
    "# Set the y-axis label\n",
    "plt.ylabel('Count')\n",
    "\n",
    "# Display the plot\n",
    "plt.show()\n",
    "\n",
    "# Display the value counts\n",
    "print(databanjir['rob'].value_counts())\n"
   ]
  },
  {
   "cell_type": "code",
   "execution_count": 7,
   "metadata": {},
   "outputs": [
    {
     "name": "stdout",
     "output_type": "stream",
     "text": [
      "<class 'pandas.core.frame.DataFrame'>\n",
      "RangeIndex: 42 entries, 0 to 41\n",
      "Data columns (total 6 columns):\n",
      " #   Column          Non-Null Count  Dtype  \n",
      "---  ------          --------------  -----  \n",
      " 0   TinggiLaut      42 non-null     float64\n",
      " 1   KecepatanAngin  42 non-null     int64  \n",
      " 2   GangguanCuaca   42 non-null     int64  \n",
      " 3   Gelombang       42 non-null     float64\n",
      " 4   Astronomi       42 non-null     int64  \n",
      " 5   rob             42 non-null     int64  \n",
      "dtypes: float64(2), int64(4)\n",
      "memory usage: 2.1 KB\n"
     ]
    }
   ],
   "source": [
    "databanjir.info()"
   ]
  },
  {
   "cell_type": "code",
   "execution_count": 8,
   "metadata": {},
   "outputs": [
    {
     "data": {
      "text/plain": [
       "<function matplotlib.pyplot.show(close=None, block=None)>"
      ]
     },
     "execution_count": 8,
     "metadata": {},
     "output_type": "execute_result"
    },
    {
     "data": {
      "image/png": "[encoded data removed]",
      "text/plain": [
       "<Figure size 1224x504 with 2 Axes>"
      ]
     },
     "metadata": {
      "needs_background": "light"
     },
     "output_type": "display_data"
    }
   ],
   "source": [
    "fig, ax = plt.subplots(figsize=(17,7))\n",
    "sns.heatmap(databanjir.describe(),annot=True,fmt=\".2f\",cmap='BuGn')\n",
    "plt.show"
   ]
  },
  {
   "cell_type": "code",
   "execution_count": 9,
   "metadata": {},
   "outputs": [
    {
     "data": {
      "image/png": "[encoded data removed]",
      "text/plain": [
       "<Figure size 1296x648 with 2 Axes>"
      ]
     },
     "metadata": {
      "needs_background": "light"
     },
     "output_type": "display_data"
    }
   ],
   "source": [
    "fig, ax = plt.subplots(figsize=(18,9))\n",
    "sns.heatmap(databanjir.corr(),annot=True, fmt=\".2f\",cmap='BuGn')\n",
    "plt.show()"
   ]
  },
  {
   "cell_type": "code",
   "execution_count": 10,
   "metadata": {},
   "outputs": [],
   "source": [
    "X = databanjir.drop (columns='rob', axis=1)\n",
    "Y = databanjir['rob']"
   ]
  },
  {
   "cell_type": "code",
   "execution_count": 11,
   "metadata": {},
   "outputs": [
    {
     "name": "stdout",
     "output_type": "stream",
     "text": [
      "    TinggiLaut  KecepatanAngin  GangguanCuaca  Gelombang  Astronomi\n",
      "0     1.000000               0              1   1.250000          0\n",
      "1     1.100000               0              1   1.250000          0\n",
      "2     1.200000               0              1   1.000000          1\n",
      "3     1.300000              15              1   1.000000          1\n",
      "4     1.400000              10              1   0.750000          1\n",
      "5     1.400000              15              1   0.750000          1\n",
      "6     1.500000              15              1   0.750000          1\n",
      "7     1.500000              25              1   1.500000          1\n",
      "8     1.500000              15              1   2.000000          1\n",
      "9     1.500000              15              1   2.000000          1\n",
      "10    1.400000               8              1   2.000000          1\n",
      "11    1.400000               8              0   1.500000          0\n",
      "12    1.200000              10              0   1.500000          0\n",
      "13    1.200000              15              0   0.750000          0\n",
      "14    1.300000              25              0   1.250000          0\n",
      "15    1.400000              25              0   1.250000          1\n",
      "16    1.500000              15              0   1.000000          1\n",
      "17    1.500000              20              1   1.250000          1\n",
      "18    1.600000              15              1   1.250000          1\n",
      "19    1.600000              20              1   1.250000          1\n",
      "20    1.600000              25              1   1.500000          1\n",
      "21    1.500000              20              0   1.500000          0\n",
      "22    1.400000              20              0   1.500000          0\n",
      "23    1.300000              20              0   0.500000          0\n",
      "24    1.200000              15              0   0.500000          0\n",
      "25    1.200000               0              1   1.000000          1\n",
      "26    1.300000              10              1   1.000000          1\n",
      "27    1.400000              10              1   1.000000          1\n",
      "28    1.500000              15              1   1.500000          1\n",
      "29    1.600000              20              1   1.500000          1\n",
      "30    1.600000              25              1   1.500000          1\n",
      "31    1.600000              20              1   1.500000          0\n",
      "32    1.600000              15              1   1.500000          0\n",
      "33    1.500000              15              1   1.853207          1\n",
      "34    1.500000              15              1   1.800035          1\n",
      "35    1.600000              25              1   1.500000          1\n",
      "36    1.600000              25              1   1.500000          1\n",
      "37    1.600000              19              1   1.500000          0\n",
      "38    1.544022              15              1   1.669832          1\n",
      "39    1.582298              15              1   1.382763          1\n",
      "40    1.500000              15              1   1.061439          1\n",
      "41    1.600000              24              1   1.500000          0\n"
     ]
    }
   ],
   "source": [
    "print(X)"
   ]
  },
  {
   "cell_type": "code",
   "execution_count": 12,
   "metadata": {},
   "outputs": [
    {
     "name": "stdout",
     "output_type": "stream",
     "text": [
      "0     0\n",
      "1     0\n",
      "2     0\n",
      "3     0\n",
      "4     0\n",
      "5     0\n",
      "6     1\n",
      "7     1\n",
      "8     1\n",
      "9     1\n",
      "10    0\n",
      "11    0\n",
      "12    0\n",
      "13    0\n",
      "14    0\n",
      "15    0\n",
      "16    0\n",
      "17    0\n",
      "18    1\n",
      "19    1\n",
      "20    1\n",
      "21    0\n",
      "22    0\n",
      "23    0\n",
      "24    0\n",
      "25    0\n",
      "26    0\n",
      "27    0\n",
      "28    1\n",
      "29    1\n",
      "30    1\n",
      "31    1\n",
      "32    1\n",
      "33    1\n",
      "34    1\n",
      "35    1\n",
      "36    1\n",
      "37    1\n",
      "38    1\n",
      "39    1\n",
      "40    1\n",
      "41    1\n",
      "Name: rob, dtype: int64\n"
     ]
    }
   ],
   "source": [
    "print(Y)"
   ]
  },
  {
   "cell_type": "code",
   "execution_count": 13,
   "metadata": {},
   "outputs": [],
   "source": [
    "scaler = StandardScaler()"
   ]
  },
  {
   "cell_type": "code",
   "execution_count": 15,
   "metadata": {},
   "outputs": [
    {
     "data": {
      "text/plain": [
       "StandardScaler()"
      ]
     },
     "execution_count": 15,
     "metadata": {},
     "output_type": "execute_result"
    }
   ],
   "source": [
    "scaler.fit(X)"
   ]
  },
  {
   "cell_type": "code",
   "execution_count": 16,
   "metadata": {},
   "outputs": [],
   "source": [
    "standarized_data = scaler.transform(X)"
   ]
  },
  {
   "cell_type": "code",
   "execution_count": 17,
   "metadata": {},
   "outputs": [
    {
     "name": "stdout",
     "output_type": "stream",
     "text": [
      "[[-2.77489077 -2.22541686  0.55901699 -0.16032029 -1.41421356]\n",
      " [-2.13894527 -2.22541686  0.55901699 -0.16032029 -1.41421356]\n",
      " [-1.50299976 -2.22541686  0.55901699 -0.82904427  0.70710678]\n",
      " [-0.86705426 -0.08166667  0.55901699 -0.82904427  0.70710678]\n",
      " [-0.23110875 -0.79625007  0.55901699 -1.49776825  0.70710678]\n",
      " [-0.23110875 -0.08166667  0.55901699 -1.49776825  0.70710678]\n",
      " [ 0.40483675 -0.08166667  0.55901699 -1.49776825  0.70710678]\n",
      " [ 0.40483675  1.34750012  0.55901699  0.50840369  0.70710678]\n",
      " [ 0.40483675 -0.08166667  0.55901699  1.84585165  0.70710678]\n",
      " [ 0.40483675 -0.08166667  0.55901699  1.84585165  0.70710678]\n",
      " [-0.23110875 -1.08208343  0.55901699  1.84585165  0.70710678]\n",
      " [-0.23110875 -1.08208343 -1.78885438  0.50840369 -1.41421356]\n",
      " [-1.50299976 -0.79625007 -1.78885438  0.50840369 -1.41421356]\n",
      " [-1.50299976 -0.08166667 -1.78885438 -1.49776825 -1.41421356]\n",
      " [-0.86705426  1.34750012 -1.78885438 -0.16032029 -1.41421356]\n",
      " [-0.23110875  1.34750012 -1.78885438 -0.16032029  0.70710678]\n",
      " [ 0.40483675 -0.08166667 -1.78885438 -0.82904427  0.70710678]\n",
      " [ 0.40483675  0.63291672  0.55901699 -0.16032029  0.70710678]\n",
      " [ 1.04078225 -0.08166667  0.55901699 -0.16032029  0.70710678]\n",
      " [ 1.04078225  0.63291672  0.55901699 -0.16032029  0.70710678]\n",
      " [ 1.04078225  1.34750012  0.55901699  0.50840369  0.70710678]\n",
      " [ 0.40483675  0.63291672 -1.78885438  0.50840369 -1.41421356]\n",
      " [-0.23110875  0.63291672 -1.78885438  0.50840369 -1.41421356]\n",
      " [-0.86705426  0.63291672 -1.78885438 -2.16649223 -1.41421356]\n",
      " [-1.50299976 -0.08166667 -1.78885438 -2.16649223 -1.41421356]\n",
      " [-1.50299976 -2.22541686  0.55901699 -0.82904427  0.70710678]\n",
      " [-0.86705426 -0.79625007  0.55901699 -0.82904427  0.70710678]\n",
      " [-0.23110875 -0.79625007  0.55901699 -0.82904427  0.70710678]\n",
      " [ 0.40483675 -0.08166667  0.55901699  0.50840369  0.70710678]\n",
      " [ 1.04078225  0.63291672  0.55901699  0.50840369  0.70710678]\n",
      " [ 1.04078225  1.34750012  0.55901699  0.50840369  0.70710678]\n",
      " [ 1.04078225  0.63291672  0.55901699  0.50840369 -1.41421356]\n",
      " [ 1.04078225 -0.08166667  0.55901699  0.50840369 -1.41421356]\n",
      " [ 0.40483675 -0.08166667  0.55901699  1.45319619  0.70710678]\n",
      " [ 0.40483675 -0.08166667  0.55901699  1.31096719  0.70710678]\n",
      " [ 1.04078225  1.34750012  0.55901699  0.50840369  0.70710678]\n",
      " [ 1.04078225  1.34750012  0.55901699  0.50840369  0.70710678]\n",
      " [ 1.04078225  0.49000004  0.55901699  0.50840369 -1.41421356]\n",
      " [ 0.68479494 -0.08166667  0.55901699  0.96268751  0.70710678]\n",
      " [ 0.92820918 -0.08166667  0.55901699  0.19480596  0.70710678]\n",
      " [ 0.40483675 -0.08166667  0.55901699 -0.66470205  0.70710678]\n",
      " [ 1.04078225  1.20458344  0.55901699  0.50840369 -1.41421356]]\n"
     ]
    }
   ],
   "source": [
    "print(standarized_data)"
   ]
  },
  {
   "cell_type": "code",
   "execution_count": 18,
   "metadata": {},
   "outputs": [],
   "source": [
    "X = standarized_data\n",
    "Y = databanjir['rob']"
   ]
  },
  {
   "cell_type": "code",
   "execution_count": 19,
   "metadata": {},
   "outputs": [
    {
     "name": "stdout",
     "output_type": "stream",
     "text": [
      "[[-2.77489077 -2.22541686  0.55901699 -0.16032029 -1.41421356]\n",
      " [-2.13894527 -2.22541686  0.55901699 -0.16032029 -1.41421356]\n",
      " [-1.50299976 -2.22541686  0.55901699 -0.82904427  0.70710678]\n",
      " [-0.86705426 -0.08166667  0.55901699 -0.82904427  0.70710678]\n",
      " [-0.23110875 -0.79625007  0.55901699 -1.49776825  0.70710678]\n",
      " [-0.23110875 -0.08166667  0.55901699 -1.49776825  0.70710678]\n",
      " [ 0.40483675 -0.08166667  0.55901699 -1.49776825  0.70710678]\n",
      " [ 0.40483675  1.34750012  0.55901699  0.50840369  0.70710678]\n",
      " [ 0.40483675 -0.08166667  0.55901699  1.84585165  0.70710678]\n",
      " [ 0.40483675 -0.08166667  0.55901699  1.84585165  0.70710678]\n",
      " [-0.23110875 -1.08208343  0.55901699  1.84585165  0.70710678]\n",
      " [-0.23110875 -1.08208343 -1.78885438  0.50840369 -1.41421356]\n",
      " [-1.50299976 -0.79625007 -1.78885438  0.50840369 -1.41421356]\n",
      " [-1.50299976 -0.08166667 -1.78885438 -1.49776825 -1.41421356]\n",
      " [-0.86705426  1.34750012 -1.78885438 -0.16032029 -1.41421356]\n",
      " [-0.23110875  1.34750012 -1.78885438 -0.16032029  0.70710678]\n",
      " [ 0.40483675 -0.08166667 -1.78885438 -0.82904427  0.70710678]\n",
      " [ 0.40483675  0.63291672  0.55901699 -0.16032029  0.70710678]\n",
      " [ 1.04078225 -0.08166667  0.55901699 -0.16032029  0.70710678]\n",
      " [ 1.04078225  0.63291672  0.55901699 -0.16032029  0.70710678]\n",
      " [ 1.04078225  1.34750012  0.55901699  0.50840369  0.70710678]\n",
      " [ 0.40483675  0.63291672 -1.78885438  0.50840369 -1.41421356]\n",
      " [-0.23110875  0.63291672 -1.78885438  0.50840369 -1.41421356]\n",
      " [-0.86705426  0.63291672 -1.78885438 -2.16649223 -1.41421356]\n",
      " [-1.50299976 -0.08166667 -1.78885438 -2.16649223 -1.41421356]\n",
      " [-1.50299976 -2.22541686  0.55901699 -0.82904427  0.70710678]\n",
      " [-0.86705426 -0.79625007  0.55901699 -0.82904427  0.70710678]\n",
      " [-0.23110875 -0.79625007  0.55901699 -0.82904427  0.70710678]\n",
      " [ 0.40483675 -0.08166667  0.55901699  0.50840369  0.70710678]\n",
      " [ 1.04078225  0.63291672  0.55901699  0.50840369  0.70710678]\n",
      " [ 1.04078225  1.34750012  0.55901699  0.50840369  0.70710678]\n",
      " [ 1.04078225  0.63291672  0.55901699  0.50840369 -1.41421356]\n",
      " [ 1.04078225 -0.08166667  0.55901699  0.50840369 -1.41421356]\n",
      " [ 0.40483675 -0.08166667  0.55901699  1.45319619  0.70710678]\n",
      " [ 0.40483675 -0.08166667  0.55901699  1.31096719  0.70710678]\n",
      " [ 1.04078225  1.34750012  0.55901699  0.50840369  0.70710678]\n",
      " [ 1.04078225  1.34750012  0.55901699  0.50840369  0.70710678]\n",
      " [ 1.04078225  0.49000004  0.55901699  0.50840369 -1.41421356]\n",
      " [ 0.68479494 -0.08166667  0.55901699  0.96268751  0.70710678]\n",
      " [ 0.92820918 -0.08166667  0.55901699  0.19480596  0.70710678]\n",
      " [ 0.40483675 -0.08166667  0.55901699 -0.66470205  0.70710678]\n",
      " [ 1.04078225  1.20458344  0.55901699  0.50840369 -1.41421356]]\n",
      "0     0\n",
      "1     0\n",
      "2     0\n",
      "3     0\n",
      "4     0\n",
      "5     0\n",
      "6     1\n",
      "7     1\n",
      "8     1\n",
      "9     1\n",
      "10    0\n",
      "11    0\n",
      "12    0\n",
      "13    0\n",
      "14    0\n",
      "15    0\n",
      "16    0\n",
      "17    0\n",
      "18    1\n",
      "19    1\n",
      "20    1\n",
      "21    0\n",
      "22    0\n",
      "23    0\n",
      "24    0\n",
      "25    0\n",
      "26    0\n",
      "27    0\n",
      "28    1\n",
      "29    1\n",
      "30    1\n",
      "31    1\n",
      "32    1\n",
      "33    1\n",
      "34    1\n",
      "35    1\n",
      "36    1\n",
      "37    1\n",
      "38    1\n",
      "39    1\n",
      "40    1\n",
      "41    1\n",
      "Name: rob, dtype: int64\n"
     ]
    }
   ],
   "source": [
    "print(X)\n",
    "print(Y)"
   ]
  },
  {
   "cell_type": "code",
   "execution_count": 20,
   "metadata": {},
   "outputs": [],
   "source": [
    "X_train, X_test, Y_train, Y_test = train_test_split(X, Y, test_size=0.2, stratify=Y, random_state=2)"
   ]
  },
  {
   "cell_type": "code",
   "execution_count": 21,
   "metadata": {},
   "outputs": [
    {
     "name": "stdout",
     "output_type": "stream",
     "text": [
      "(42, 5) (33, 5) (9, 5)\n"
     ]
    }
   ],
   "source": [
    "print(X.shape, X_train.shape, X_test.shape)"
   ]
  },
  {
   "cell_type": "code",
   "execution_count": 22,
   "metadata": {},
   "outputs": [],
   "source": [
    "classifier = svm.SVC(kernel='linear')"
   ]
  },
  {
   "cell_type": "code",
   "execution_count": 23,
   "metadata": {},
   "outputs": [
    {
     "data": {
      "text/plain": [
       "SVC(kernel='linear')"
      ]
     },
     "execution_count": 23,
     "metadata": {},
     "output_type": "execute_result"
    }
   ],
   "source": [
    "classifier.fit(X_train, Y_train)"
   ]
  },
  {
   "cell_type": "code",
   "execution_count": 24,
   "metadata": {},
   "outputs": [],
   "source": [
    "X_train_prediction = classifier.predict(X_train)\n",
    "training_data_accuracy = accuracy_score(X_train_prediction, Y_train)"
   ]
  },
  {
   "cell_type": "code",
   "execution_count": 25,
   "metadata": {},
   "outputs": [
    {
     "name": "stdout",
     "output_type": "stream",
     "text": [
      "Akurasi data training adalah =  1.0\n"
     ]
    }
   ],
   "source": [
    "print('Akurasi data training adalah = ', training_data_accuracy)"
   ]
  },
  {
   "cell_type": "code",
   "execution_count": 26,
   "metadata": {},
   "outputs": [
    {
     "name": "stdout",
     "output_type": "stream",
     "text": [
      "Akurasi data test adalah =  0.8888888888888888\n"
     ]
    }
   ],
   "source": [
    "X_test_prediction = classifier.predict(X_test)\n",
    "test_data_accuracy = accuracy_score(X_test_prediction, Y_test)\n",
    "print('Akurasi data test adalah = ', test_data_accuracy)"
   ]
  },
  {
   "cell_type": "code",
   "execution_count": 27,
   "metadata": {},
   "outputs": [
    {
     "name": "stdout",
     "output_type": "stream",
     "text": [
      "[[ 0.40483675 -0.08166667  0.55901699 -1.49776825  0.70710678]]\n",
      "[[ 0.40483675 -0.08166667  0.55901699 -1.49776825  0.70710678]]\n",
      "Berpotensi naiknya air laut menyebabkan banjir\n"
     ]
    }
   ],
   "source": [
    "input_data = (1.5, 15, 1, 0.75, 1)\n",
    "\n",
    "input_data_as_numpy_array = np.array(input_data)\n",
    "\n",
    "input_data_reshape = input_data_as_numpy_array.reshape(1, -1)\n",
    "\n",
    "std_data = scaler.transform(input_data_reshape)\n",
    "print(std_data)\n",
    "\n",
    "prediction = classifier.predict(std_data)\n",
    "print(std_data)\n",
    "\n",
    "if prediction[0] == 0:\n",
    "    result = 'Tidak berpotensi naiknya air laut dan banjir'\n",
    "else:\n",
    "    result = 'Berpotensi naiknya air laut menyebabkan banjir'\n",
    "\n",
    "print(result)\n"
   ]
  },
  {
   "cell_type": "code",
   "execution_count": 28,
   "metadata": {},
   "outputs": [],
   "source": [
    "import pickle\n",
    "from sklearn.svm import SVC\n",
    "\n",
    "# Contoh: Membuat model SVM\n",
    "model = SVC(kernel='linear', C=1.0)\n",
    "\n",
    "# Menyimpan model ke dalam file 'svm.sav'\n",
    "filename = 'svm1.sav'\n",
    "with open(filename, 'wb') as file:\n",
    "    pickle.dump(model, file)\n"
   ]
  }
 ],
 "metadata": {
  "kernelspec": {
   "display_name": "base",
   "language": "python",
   "name": "python3"
  },
  "language_info": {
   "codemirror_mode": {
    "name": "ipython",
    "version": 3
   },
   "file_extension": ".py",
   "mimetype": "text/x-python",
   "name": "python",
   "nbconvert_exporter": "python",
   "pygments_lexer": "ipython3",
   "version": "3.9.7"
  }
 },
 "nbformat": 4,
 "nbformat_minor": 2
}
